{
 "cells": [
  {
   "cell_type": "code",
   "execution_count": 1,
   "metadata": {},
   "outputs": [],
   "source": [
    "def aleavec(N, M):\n",
    "    L = [];\n",
    "    for i in [1..N]:\n",
    "        L += [randint(0,M)]\n",
    "    return L"
   ]
  },
  {
   "cell_type": "code",
   "execution_count": 2,
   "metadata": {},
   "outputs": [
    {
     "name": "stdout",
     "output_type": "stream",
     "text": [
      "[67, 24, 22, 54, 48, 49, 29, 19, 48, 38]\n"
     ]
    }
   ],
   "source": [
    "L = aleavec(10, 100)\n",
    "print(L)"
   ]
  },
  {
   "cell_type": "code",
   "execution_count": 3,
   "metadata": {},
   "outputs": [],
   "source": [
    "def testtri(L):\n",
    "    N = len(L)\n",
    "    for i in [0..N-2]:\n",
    "        if L[i] > L[i+1]: \n",
    "            return False\n",
    "    return True"
   ]
  },
  {
   "cell_type": "code",
   "execution_count": 4,
   "metadata": {},
   "outputs": [
    {
     "name": "stdout",
     "output_type": "stream",
     "text": [
      "True\n"
     ]
    }
   ],
   "source": [
    "print (testtri([1,2,2,2,3]))"
   ]
  },
  {
   "cell_type": "code",
   "execution_count": 5,
   "metadata": {},
   "outputs": [],
   "source": [
    "def BubbleSort(L): \n",
    "    S = copy(L)\n",
    "    N = len(S)\n",
    "    while True:\n",
    "        swap = False\n",
    "        for i in [0..N-2]:\n",
    "            if S[i] > S[i+1]:\n",
    "                S[i],S[i+1] = S[i+1],S[i]\n",
    "                swap = True\n",
    "        if swap == False: break\n",
    "    return (S)"
   ]
  },
  {
   "cell_type": "code",
   "execution_count": 6,
   "metadata": {},
   "outputs": [
    {
     "name": "stdout",
     "output_type": "stream",
     "text": [
      "[9, 6, 9, 2, 5, 8, 3, 6, 1, 1, 2, 5, 5, 4, 2, 4, 0, 6, 4, 10, 10, 8, 2, 5, 10, 9, 5, 2, 8, 8, 3, 4, 8, 5, 3, 9, 0, 8, 6, 4, 2, 1, 6, 8, 6, 7, 6, 1, 1, 5, 8, 1, 6, 1, 9, 6, 1, 7, 2, 9, 8, 8, 9, 0, 4, 3, 2, 5, 4, 8, 2, 9, 3, 5, 6, 9, 3, 2, 9, 3, 7, 1, 4, 1, 9, 3, 8, 6, 6, 4, 7, 1, 4, 4, 5, 7, 7, 6, 7, 9]\n",
      "[0, 0, 0, 1, 1, 1, 1, 1, 1, 1, 1, 1, 1, 1, 2, 2, 2, 2, 2, 2, 2, 2, 2, 2, 3, 3, 3, 3, 3, 3, 3, 3, 4, 4, 4, 4, 4, 4, 4, 4, 4, 4, 4, 5, 5, 5, 5, 5, 5, 5, 5, 5, 5, 6, 6, 6, 6, 6, 6, 6, 6, 6, 6, 6, 6, 6, 7, 7, 7, 7, 7, 7, 7, 8, 8, 8, 8, 8, 8, 8, 8, 8, 8, 8, 8, 9, 9, 9, 9, 9, 9, 9, 9, 9, 9, 9, 9, 10, 10, 10]\n"
     ]
    }
   ],
   "source": [
    "L = aleavec(100,10)\n",
    "S = BubbleSort(L)\n",
    "print(L)\n",
    "print(S)"
   ]
  },
  {
   "cell_type": "code",
   "execution_count": 7,
   "metadata": {},
   "outputs": [],
   "source": [
    "def InsertionSort(L):\n",
    "    N = len(L)\n",
    "    S = [L[0]]\n",
    "    for i in [1..N-1]:\n",
    "        v = L[i]\n",
    "        c = 0\n",
    "        while c < len(S) and S[c] <= v: \n",
    "            c += 1\n",
    "        S = S[:c]+[v]+S[c:]\n",
    "    return (S)"
   ]
  },
  {
   "cell_type": "code",
   "execution_count": 8,
   "metadata": {},
   "outputs": [],
   "source": [
    "def QuickSort(L):\n",
    "    N = len(L)\n",
    "    if N <= 1: return L\n",
    "    k = N//2\n",
    "    L1 = QuickSort(L[:k])\n",
    "    N1 = len(L1)\n",
    "    L2 = QuickSort(L[k:])\n",
    "    N2 = len(L2)\n",
    "    S = [];\n",
    "    c1 = c2 = 0; # compteurs pour dépiler L1 et L2\n",
    "    if N1 == 0: return L2\n",
    "    if N2 == 0: return L1\n",
    "    while True:\n",
    "        while c1 < N1 and L1[c1] <= L2[c2]:\n",
    "            S += [L1[c1]]\n",
    "            c1 += 1\n",
    "        if c1 == N1: \n",
    "            S += L2[c2:]\n",
    "            return (S)\n",
    "        while c2 < N2 and L2[c2] <= L1[c1]:\n",
    "            S += [L2[c2]]\n",
    "            c2 += 1\n",
    "        if c2 == N2: \n",
    "            S += L1[c1:]\n",
    "            return (S)"
   ]
  },
  {
   "cell_type": "code",
   "execution_count": 9,
   "metadata": {},
   "outputs": [
    {
     "name": "stdout",
     "output_type": "stream",
     "text": [
      "True\n",
      "True\n",
      "True\n"
     ]
    }
   ],
   "source": [
    "L = aleavec(1000, 1000)\n",
    "L1 = BubbleSort(L)\n",
    "L2 = InsertionSort(L)\n",
    "L3 = QuickSort(L)\n",
    "print (testtri(L1))\n",
    "print (L1 == L2)\n",
    "print (L2 == L3)"
   ]
  },
  {
   "cell_type": "code",
   "execution_count": 11,
   "metadata": {},
   "outputs": [
    {
     "name": "stdout",
     "output_type": "stream",
     "text": [
      "True\n",
      "True\n",
      "True\n"
     ]
    }
   ],
   "source": [
    "L = aleavec(1000, 1000)\n",
    "L1 = BubbleSort(L)\n",
    "L2 = InsertionSort(L)\n",
    "L3 = QuickSort(L)\n",
    "print (testtri(L1))\n",
    "print (L1 == L2)\n",
    "print (L2 == L3)"
   ]
  },
  {
   "cell_type": "code",
   "execution_count": 12,
   "metadata": {},
   "outputs": [
    {
     "name": "stdout",
     "output_type": "stream",
     "text": [
      "0.4195990000000003\n",
      "0.06787900000000002\n",
      "0.006021000000000054\n",
      "True\n",
      "True\n",
      "True\n"
     ]
    }
   ],
   "source": [
    "N = 1000\n",
    "L = aleavec(N, 2*N);\n",
    "t = cputime(); L1 = BubbleSort(L); print (cputime() - t);\n",
    "t = cputime(); L2 = InsertionSort(L); print (cputime() - t);\n",
    "t = cputime(); L3 = QuickSort(L); print (cputime() - t);\n",
    "print (testtri(L1))\n",
    "print (L1 == L2)\n",
    "print (L2 == L3)"
   ]
  },
  {
   "cell_type": "code",
   "execution_count": 13,
   "metadata": {},
   "outputs": [
    {
     "name": "stdout",
     "output_type": "stream",
     "text": [
      "9.850757000000002\n",
      "1.7834850000000024\n",
      "0.03765800000000041\n",
      "True\n",
      "True\n",
      "True\n"
     ]
    }
   ],
   "source": [
    "N = 5000\n",
    "L = aleavec(N, 2*N);\n",
    "t = cputime(); L1 = BubbleSort(L); print (cputime() - t);\n",
    "t = cputime(); L2 = InsertionSort(L); print (cputime() - t);\n",
    "t = cputime(); L3 = QuickSort(L); print (cputime() - t);\n",
    "print (testtri(L1))\n",
    "print (L1 == L2)\n",
    "print (L2 == L3)"
   ]
  },
  {
   "cell_type": "code",
   "execution_count": 28,
   "metadata": {},
   "outputs": [
    {
     "name": "stdout",
     "output_type": "stream",
     "text": [
      "39.396910999999996\n",
      "7.118652999999995\n",
      "0.07921100000000081\n",
      "0.07904499999999359\n",
      "True\n",
      "True\n",
      "True\n",
      "True\n"
     ]
    }
   ],
   "source": [
    "N = 10000\n",
    "L = aleavec(N, 2*N);\n",
    "t = cputime(); L1 = BubbleSort(L); print (cputime() - t);\n",
    "t = cputime(); L2 = InsertionSort(L); print (cputime() - t);\n",
    "t = cputime(); L3 = QuickSort(L); print (cputime() - t);\n",
    "t = cputime(); L4 = QuickSort2(L); print (cputime() - t);\n",
    "print (testtri(L1))\n",
    "print (L1 == L2)\n",
    "print (L2 == L3)\n",
    "print (L3 == L4)"
   ]
  },
  {
   "cell_type": "code",
   "execution_count": 14,
   "metadata": {},
   "outputs": [
    {
     "name": "stdout",
     "output_type": "stream",
     "text": [
      "28.339386000000005\n",
      "0.1730489999999989\n",
      "True\n",
      "True\n"
     ]
    }
   ],
   "source": [
    "N = 20000\n",
    "L = aleavec(N, 2*N);\n",
    "t = cputime(); L2 = InsertionSort(L); print (cputime() - t);\n",
    "t = cputime(); L3 = QuickSort(L); print (cputime() - t);\n",
    "print (testtri(L2))\n",
    "print (L2 == L3)"
   ]
  },
  {
   "cell_type": "code",
   "execution_count": 15,
   "metadata": {},
   "outputs": [
    {
     "name": "stdout",
     "output_type": "stream",
     "text": [
      "0.9822839999999928\n",
      "True\n"
     ]
    }
   ],
   "source": [
    "N = 100000\n",
    "L = aleavec(N, 2*N);\n",
    "t = cputime(); L3 = QuickSort(L); print (cputime() - t);\n",
    "print (testtri(L3))"
   ]
  },
  {
   "cell_type": "code",
   "execution_count": 16,
   "metadata": {},
   "outputs": [
    {
     "name": "stdout",
     "output_type": "stream",
     "text": [
      "5.61157\n",
      "True\n"
     ]
    }
   ],
   "source": [
    "N = 500000\n",
    "L = aleavec(N, 2*N);\n",
    "t = cputime(); L3 = QuickSort(L); print (cputime() - t);\n",
    "print (testtri(L3))"
   ]
  },
  {
   "cell_type": "code",
   "execution_count": 17,
   "metadata": {},
   "outputs": [],
   "source": [
    "def BubbleSort2(L): \n",
    "    S = copy(L)\n",
    "    N = len(S)\n",
    "    c = N-2;\n",
    "    while True:\n",
    "        swap = False\n",
    "        for i in [0..c]:\n",
    "            if S[i] > S[i+1]:\n",
    "                t = S[i]\n",
    "                S[i] = S[i+1]\n",
    "                S[i+1] = t\n",
    "                swap = True\n",
    "        if swap == False: break\n",
    "        c -= 1\n",
    "    return (S)"
   ]
  },
  {
   "cell_type": "code",
   "execution_count": 18,
   "metadata": {},
   "outputs": [
    {
     "name": "stdout",
     "output_type": "stream",
     "text": [
      "1.5896299999999997\n",
      "0.9973519999999922\n",
      "True\n",
      "True\n"
     ]
    }
   ],
   "source": [
    "N = 2000\n",
    "L = aleavec(N, 2*N);\n",
    "t = cputime(); L1 = BubbleSort(L); print (cputime() - t);\n",
    "t = cputime(); L2 = BubbleSort2(L); print (cputime() - t);\n",
    "print (testtri(L1))\n",
    "print (L1 == L2)"
   ]
  },
  {
   "cell_type": "code",
   "execution_count": 20,
   "metadata": {},
   "outputs": [
    {
     "name": "stdout",
     "output_type": "stream",
     "text": [
      "6.34935999999999\n",
      "3.957418000000004\n",
      "True\n",
      "True\n"
     ]
    }
   ],
   "source": [
    "N = 4000\n",
    "L = aleavec(N, 2*N);\n",
    "t = cputime(); L1 = BubbleSort(L); print (cputime() - t);\n",
    "t = cputime(); L2 = BubbleSort2(L); print (cputime() - t);\n",
    "print (testtri(L1))\n",
    "print (L1 == L2)"
   ]
  },
  {
   "cell_type": "code",
   "execution_count": 67,
   "metadata": {},
   "outputs": [],
   "source": [
    "def Prime(n):\n",
    "    s = floor(sqrt(n))\n",
    "    i = 2\n",
    "    while i <= s:\n",
    "        if n%i == 0:\n",
    "            return False\n",
    "        i=i+1\n",
    "    return True"
   ]
  },
  {
   "cell_type": "code",
   "execution_count": 82,
   "metadata": {},
   "outputs": [],
   "source": [
    "def Prime2(n):\n",
    "    s = floor(sqrt(n))\n",
    "    i = 3\n",
    "    if n == 2:\n",
    "        return True\n",
    "    if n%2 == 0:\n",
    "        return False\n",
    "    while i <= s:\n",
    "        if n%i == 0:\n",
    "            return False\n",
    "        i=i+2\n",
    "    return True"
   ]
  },
  {
   "cell_type": "code",
   "execution_count": 83,
   "metadata": {},
   "outputs": [
    {
     "name": "stdout",
     "output_type": "stream",
     "text": [
      "8392\n",
      "6.500263999999959\n"
     ]
    }
   ],
   "source": [
    "t = cputime(); \n",
    "c = 0\n",
    "for n in [100000..200000]:\n",
    "        if Prime(n):\n",
    "            c+=1\n",
    "print(c)\n",
    "print (cputime() - t);"
   ]
  },
  {
   "cell_type": "code",
   "execution_count": 84,
   "metadata": {},
   "outputs": [
    {
     "name": "stdout",
     "output_type": "stream",
     "text": [
      "8392\n",
      "6.08567400000004\n"
     ]
    }
   ],
   "source": [
    "t = cputime(); \n",
    "c = 0\n",
    "for n in [100000..200000]:\n",
    "        if Prime2(n):\n",
    "            c+=1\n",
    "print(c)\n",
    "print (cputime() - t);"
   ]
  },
  {
   "cell_type": "code",
   "execution_count": 85,
   "metadata": {},
   "outputs": [],
   "source": [
    "def erast(n):\n",
    "    L = (n+1)*[1]\n",
    "    L[0]=L[1]=0\n",
    "    for i in range(2,n+1):\n",
    "        if L[i] == 1:\n",
    "            j = 2*i\n",
    "            while j < n:\n",
    "                L[j] = 0\n",
    "                j += i\n",
    "    return (L)"
   ]
  },
  {
   "cell_type": "code",
   "execution_count": 86,
   "metadata": {},
   "outputs": [
    {
     "name": "stdout",
     "output_type": "stream",
     "text": [
      "169\n"
     ]
    }
   ],
   "source": [
    "L = erast(1000)\n",
    "c = 0\n",
    "for i in range(0,len(L)):\n",
    "    if L[i] == 1:\n",
    "        c+=1\n",
    "print(c)"
   ]
  },
  {
   "cell_type": "code",
   "execution_count": 87,
   "metadata": {},
   "outputs": [
    {
     "name": "stdout",
     "output_type": "stream",
     "text": [
      "2\n",
      "3\n",
      "5\n",
      "7\n",
      "11\n",
      "13\n",
      "17\n",
      "19\n",
      "23\n",
      "29\n",
      "31\n",
      "37\n",
      "41\n",
      "43\n",
      "47\n",
      "53\n",
      "59\n",
      "61\n",
      "67\n",
      "71\n",
      "73\n",
      "79\n",
      "83\n",
      "89\n",
      "97\n",
      "101\n",
      "103\n",
      "107\n",
      "109\n",
      "113\n",
      "127\n",
      "131\n",
      "137\n",
      "139\n",
      "149\n",
      "151\n",
      "157\n",
      "163\n",
      "167\n",
      "173\n",
      "179\n",
      "181\n",
      "191\n",
      "193\n",
      "197\n",
      "199\n",
      "211\n",
      "223\n",
      "227\n",
      "229\n",
      "233\n",
      "239\n",
      "241\n",
      "251\n",
      "257\n",
      "263\n",
      "269\n",
      "271\n",
      "277\n",
      "281\n",
      "283\n",
      "293\n",
      "307\n",
      "311\n",
      "313\n",
      "317\n",
      "331\n",
      "337\n",
      "347\n",
      "349\n",
      "353\n",
      "359\n",
      "367\n",
      "373\n",
      "379\n",
      "383\n",
      "389\n",
      "397\n",
      "401\n",
      "409\n",
      "419\n",
      "421\n",
      "431\n",
      "433\n",
      "439\n",
      "443\n",
      "449\n",
      "457\n",
      "461\n",
      "463\n",
      "467\n",
      "479\n",
      "487\n",
      "491\n",
      "499\n",
      "503\n",
      "509\n",
      "521\n",
      "523\n",
      "541\n",
      "547\n",
      "557\n",
      "563\n",
      "569\n",
      "571\n",
      "577\n",
      "587\n",
      "593\n",
      "599\n",
      "601\n",
      "607\n",
      "613\n",
      "617\n",
      "619\n",
      "631\n",
      "641\n",
      "643\n",
      "647\n",
      "653\n",
      "659\n",
      "661\n",
      "673\n",
      "677\n",
      "683\n",
      "691\n",
      "701\n",
      "709\n",
      "719\n",
      "727\n",
      "733\n",
      "739\n",
      "743\n",
      "751\n",
      "757\n",
      "761\n",
      "769\n",
      "773\n",
      "787\n",
      "797\n",
      "809\n",
      "811\n",
      "821\n",
      "823\n",
      "827\n",
      "829\n",
      "839\n",
      "853\n",
      "857\n",
      "859\n",
      "863\n",
      "877\n",
      "881\n",
      "883\n",
      "887\n",
      "907\n",
      "911\n",
      "919\n",
      "929\n",
      "937\n",
      "941\n",
      "947\n",
      "953\n",
      "967\n",
      "971\n",
      "977\n",
      "983\n",
      "991\n",
      "997\n"
     ]
    }
   ],
   "source": [
    "for i in range(0,1000):\n",
    "    if L[i] == 1:\n",
    "        print(i)"
   ]
  },
  {
   "cell_type": "code",
   "execution_count": null,
   "metadata": {},
   "outputs": [],
   "source": []
  }
 ],
 "metadata": {
  "kernelspec": {
   "display_name": "SageMath 9.4",
   "language": "sage",
   "name": "sagemath-9.4"
  },
  "language_info": {
   "codemirror_mode": {
    "name": "ipython",
    "version": 3
   },
   "file_extension": ".py",
   "mimetype": "text/x-python",
   "name": "python",
   "nbconvert_exporter": "python",
   "pygments_lexer": "ipython3",
   "version": "3.9.5"
  }
 },
 "nbformat": 4,
 "nbformat_minor": 2
}
