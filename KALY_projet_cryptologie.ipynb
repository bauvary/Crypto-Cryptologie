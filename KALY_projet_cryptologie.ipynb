{
 "cells": [
  {
   "cell_type": "markdown",
   "metadata": {},
   "source": [
    "# Exercice 1"
   ]
  },
  {
   "cell_type": "markdown",
   "metadata": {},
   "source": [
    "# Chiffrement de CESAR"
   ]
  },
  {
   "cell_type": "code",
   "execution_count": 7,
   "metadata": {},
   "outputs": [],
   "source": [
    "def decryptage_cesar(message):\n",
    "\n",
    "    # substitute PLAIN the letter\n",
    "    CESAR = message\n",
    "    for i in range(26):\n",
    "        KEY = i\n",
    "        enc = \"\"\n",
    "\n",
    "        for char in list(CESAR):\n",
    "            ASCII = ord(char)\n",
    "            if (ASCII == 32):                   # si l'ASCII est SPC, on fait de l'espace.\n",
    "                enc += \" \"\n",
    "                continue\n",
    "            if (122 >= ASCII and ASCII >= 97):  # si l'ASCII est inférieur; si c'est des miniscules\n",
    "                num = ASCII - 97\n",
    "                num = (num + KEY) % 26\n",
    "                ASCII = num + 97\n",
    "                enc += chr(ASCII)\n",
    "            elif (90 >= ASCII and ASCII >= 65): # si l'ASCII est supérieur; si c'est des majiscules\n",
    "                num = ASCII - 65\n",
    "                num = (num + KEY) % 26\n",
    "                ASCII = num + 65\n",
    "                enc += chr(ASCII)\n",
    "            else :                              # si l'ASCII est un symbol\n",
    "                enc += chr(ASCII)\n",
    "\n",
    "        print(f\"---------  Caractère {i} décalé ---------\")\n",
    "        print(enc)\n",
    "        print(\"\")\n",
    "\n"
   ]
  },
  {
   "cell_type": "code",
   "execution_count": 8,
   "metadata": {},
   "outputs": [
    {
     "name": "stdout",
     "output_type": "stream",
     "text": [
      "---------  Caractère 0 décalé ---------\n",
      "DWK SJSTWK GFL VWUGMNWJL DS EWLZGVW VW UJQHLSFSDQKW VM UZAXXJWEWFL VW KMTKLALMLAGF\n",
      "\n",
      "---------  Caractère 1 décalé ---------\n",
      "EXL TKTUXL HGM WXVHNOXKM ET FXMAHWX WX VKRIMTGTERLX WN VABYYKXFXGM WX LNULMBMNMBHG\n",
      "\n",
      "---------  Caractère 2 décalé ---------\n",
      "FYM ULUVYM IHN XYWIOPYLN FU GYNBIXY XY WLSJNUHUFSMY XO WBCZZLYGYHN XY MOVMNCNONCIH\n",
      "\n",
      "---------  Caractère 3 décalé ---------\n",
      "GZN VMVWZN JIO YZXJPQZMO GV HZOCJYZ YZ XMTKOVIVGTNZ YP XCDAAMZHZIO YZ NPWNODOPODJI\n",
      "\n",
      "---------  Caractère 4 décalé ---------\n",
      "HAO WNWXAO KJP ZAYKQRANP HW IAPDKZA ZA YNULPWJWHUOA ZQ YDEBBNAIAJP ZA OQXOPEPQPEKJ\n",
      "\n",
      "---------  Caractère 5 décalé ---------\n",
      "IBP XOXYBP LKQ ABZLRSBOQ IX JBQELAB AB ZOVMQXKXIVPB AR ZEFCCOBJBKQ AB PRYPQFQRQFLK\n",
      "\n",
      "---------  Caractère 6 décalé ---------\n",
      "JCQ YPYZCQ MLR BCAMSTCPR JY KCRFMBC BC APWNRYLYJWQC BS AFGDDPCKCLR BC QSZQRGRSRGML\n",
      "\n",
      "---------  Caractère 7 décalé ---------\n",
      "KDR ZQZADR NMS CDBNTUDQS KZ LDSGNCD CD BQXOSZMZKXRD CT BGHEEQDLDMS CD RTARSHSTSHNM\n",
      "\n",
      "---------  Caractère 8 décalé ---------\n",
      "LES ARABES ONT DECOUVERT LA METHODE DE CRYPTANALYSE DU CHIFFREMENT DE SUBSTITUTION\n",
      "\n",
      "---------  Caractère 9 décalé ---------\n",
      "MFT BSBCFT POU EFDPVWFSU MB NFUIPEF EF DSZQUBOBMZTF EV DIJGGSFNFOU EF TVCTUJUVUJPO\n",
      "\n",
      "---------  Caractère 10 décalé ---------\n",
      "NGU CTCDGU QPV FGEQWXGTV NC OGVJQFG FG ETARVCPCNAUG FW EJKHHTGOGPV FG UWDUVKVWVKQP\n",
      "\n",
      "---------  Caractère 11 décalé ---------\n",
      "OHV DUDEHV RQW GHFRXYHUW OD PHWKRGH GH FUBSWDQDOBVH GX FKLIIUHPHQW GH VXEVWLWXWLRQ\n",
      "\n",
      "---------  Caractère 12 décalé ---------\n",
      "PIW EVEFIW SRX HIGSYZIVX PE QIXLSHI HI GVCTXEREPCWI HY GLMJJVIQIRX HI WYFWXMXYXMSR\n",
      "\n",
      "---------  Caractère 13 décalé ---------\n",
      "QJX FWFGJX TSY IJHTZAJWY QF RJYMTIJ IJ HWDUYFSFQDXJ IZ HMNKKWJRJSY IJ XZGXYNYZYNTS\n",
      "\n",
      "---------  Caractère 14 décalé ---------\n",
      "RKY GXGHKY UTZ JKIUABKXZ RG SKZNUJK JK IXEVZGTGREYK JA INOLLXKSKTZ JK YAHYZOZAZOUT\n",
      "\n",
      "---------  Caractère 15 décalé ---------\n",
      "SLZ HYHILZ VUA KLJVBCLYA SH TLAOVKL KL JYFWAHUHSFZL KB JOPMMYLTLUA KL ZBIZAPABAPVU\n",
      "\n",
      "---------  Caractère 16 décalé ---------\n",
      "TMA IZIJMA WVB LMKWCDMZB TI UMBPWLM LM KZGXBIVITGAM LC KPQNNZMUMVB LM ACJABQBCBQWV\n",
      "\n",
      "---------  Caractère 17 décalé ---------\n",
      "UNB JAJKNB XWC MNLXDENAC UJ VNCQXMN MN LAHYCJWJUHBN MD LQROOANVNWC MN BDKBCRCDCRXW\n",
      "\n",
      "---------  Caractère 18 décalé ---------\n",
      "VOC KBKLOC YXD NOMYEFOBD VK WODRYNO NO MBIZDKXKVICO NE MRSPPBOWOXD NO CELCDSDEDSYX\n",
      "\n",
      "---------  Caractère 19 décalé ---------\n",
      "WPD LCLMPD ZYE OPNZFGPCE WL XPESZOP OP NCJAELYLWJDP OF NSTQQCPXPYE OP DFMDETEFETZY\n",
      "\n",
      "---------  Caractère 20 décalé ---------\n",
      "XQE MDMNQE AZF PQOAGHQDF XM YQFTAPQ PQ ODKBFMZMXKEQ PG OTURRDQYQZF PQ EGNEFUFGFUAZ\n",
      "\n",
      "---------  Caractère 21 décalé ---------\n",
      "YRF NENORF BAG QRPBHIREG YN ZRGUBQR QR PELCGNANYLFR QH PUVSSERZRAG QR FHOFGVGHGVBA\n",
      "\n",
      "---------  Caractère 22 décalé ---------\n",
      "ZSG OFOPSG CBH RSQCIJSFH ZO ASHVCRS RS QFMDHOBOZMGS RI QVWTTFSASBH RS GIPGHWHIHWCB\n",
      "\n",
      "---------  Caractère 23 décalé ---------\n",
      "ATH PGPQTH DCI STRDJKTGI AP BTIWDST ST RGNEIPCPANHT SJ RWXUUGTBTCI ST HJQHIXIJIXDC\n",
      "\n",
      "---------  Caractère 24 décalé ---------\n",
      "BUI QHQRUI EDJ TUSEKLUHJ BQ CUJXETU TU SHOFJQDQBOIU TK SXYVVHUCUDJ TU IKRIJYJKJYED\n",
      "\n",
      "---------  Caractère 25 décalé ---------\n",
      "CVJ RIRSVJ FEK UVTFLMVIK CR DVKYFUV UV TIPGKRERCPJV UL TYZWWIVDVEK UV JLSJKZKLKZFE\n",
      "\n"
     ]
    }
   ],
   "source": [
    "message_crypt = \"DWK SJSTWK GFL VWUGMNWJL DS EWLZGVW VW UJQHLSFSDQKW VM UZAXXJWEWFL VW KMTKLALMLAGF\"\n",
    "decryptage_cesar(message_crypt)"
   ]
  },
  {
   "cell_type": "markdown",
   "metadata": {},
   "source": [
    "Le message est après le décalement du caractère 8 : <br>\n",
    "    LES ARABES ONT DECOUVERT LA METHODE DE CRYPTANALYSE DU CHIFFREMENT DE SUBSTITUTION"
   ]
  },
  {
   "cell_type": "markdown",
   "metadata": {},
   "source": [
    "# Exercice 2"
   ]
  },
  {
   "cell_type": "markdown",
   "metadata": {},
   "source": [
    "# RSA"
   ]
  },
  {
   "cell_type": "code",
   "execution_count": 33,
   "metadata": {},
   "outputs": [],
   "source": [
    "N = 3378478849055824555628593972292907746816137277330083061942491\n",
    "d = 1250946498114131713987423329270462523024319870970104181400099\n",
    "cs = [N,d]\n",
    "m = 1676997601067614912389635766628758385525791234115087728305902\n",
    "e = 260371391843823397271543484254584553693149315983389907336299"
   ]
  },
  {
   "cell_type": "markdown",
   "metadata": {},
   "source": [
    "# signature"
   ]
  },
  {
   "cell_type": "code",
   "execution_count": 6,
   "metadata": {},
   "outputs": [],
   "source": [
    "def signRSA(cs,m):\n",
    "    [N,d] = cs\n",
    "    return(lift(Mod(m,N)^d))\n"
   ]
  },
  {
   "cell_type": "markdown",
   "metadata": {},
   "source": [
    "# signature de m"
   ]
  },
  {
   "cell_type": "code",
   "execution_count": 8,
   "metadata": {},
   "outputs": [
    {
     "name": "stdout",
     "output_type": "stream",
     "text": [
      "1353601631156049096770615900571784482955308446511263158029803\n"
     ]
    }
   ],
   "source": [
    "signature = signRSA(cs,m)\n",
    "print(signature)"
   ]
  },
  {
   "cell_type": "markdown",
   "metadata": {},
   "source": [
    "# Totale casse"
   ]
  },
  {
   "cell_type": "code",
   "execution_count": 34,
   "metadata": {},
   "outputs": [],
   "source": [
    "# Implémentation de la Résistance TB (cours)\n",
    "def factorisation(e,d,N):\n",
    "    a = e*d - 1\n",
    "    s = 0\n",
    "    r = a\n",
    "    # chercher On écrit ed - 1 = (2^s)*r avec r >= 1 impair et s>=2\n",
    "    while True:\n",
    "        if(r%2 == 0):\n",
    "            r=r/2\n",
    "            s=s+1\n",
    "        else:\n",
    "            break\n",
    "    \n",
    "    \n",
    "    while True:\n",
    "        while True:\n",
    "            x = ZZ.random_element(1,N-1)\n",
    "            if(Mod(x,N)^r != 1 and Mod(x,N)^r != -1):\n",
    "                break\n",
    "        for t in range(0,s) :\n",
    "            y = Mod(x,N)^((2^(t+1))*r)\n",
    "            if(y == 1):\n",
    "                break\n",
    "        if(Mod(x,N)^((2^t)*r) != -1):\n",
    "            break\n",
    "    m = Mod(x,N)^((2^t)*r)\n",
    "    p = lift(gcd(m+1,N))\n",
    "    q = N/p\n",
    "    print('La factorisation de N est %s * %s' % (p,q))\n",
    "    \n",
    "        \n",
    "    "
   ]
  },
  {
   "cell_type": "markdown",
   "metadata": {},
   "source": [
    "# Factorisation de N"
   ]
  },
  {
   "cell_type": "code",
   "execution_count": 35,
   "metadata": {},
   "outputs": [
    {
     "name": "stdout",
     "output_type": "stream",
     "text": [
      "La factorisation de N est 1867695959439112332087644672081 * 1808901942514463300358405621611\n"
     ]
    }
   ],
   "source": [
    "\n",
    "#total_casse(cs,e)\n",
    "\n",
    "factorisation(e,d,N)"
   ]
  },
  {
   "cell_type": "markdown",
   "metadata": {},
   "source": [
    "# Exercice 3"
   ]
  },
  {
   "cell_type": "markdown",
   "metadata": {},
   "source": [
    "# ELGAMAL"
   ]
  },
  {
   "cell_type": "code",
   "execution_count": 43,
   "metadata": {},
   "outputs": [],
   "source": [
    "g = 2\n",
    "l = 1460166012686077436651\n",
    "x = 882348543941924825150\n"
   ]
  },
  {
   "cell_type": "markdown",
   "metadata": {},
   "source": [
    "# Calcul de la clé publique"
   ]
  },
  {
   "cell_type": "code",
   "execution_count": 47,
   "metadata": {},
   "outputs": [
    {
     "name": "stdout",
     "output_type": "stream",
     "text": [
      "La clé public est :  1350977064856148883175\n"
     ]
    }
   ],
   "source": [
    "### soit p la clé publique\n",
    "p = Mod(g,l)^x\n",
    "print(\"La clé public est : \",p)"
   ]
  },
  {
   "cell_type": "markdown",
   "metadata": {},
   "source": [
    "# Fonction de chiffrement et de dechiffrement"
   ]
  },
  {
   "cell_type": "code",
   "execution_count": 45,
   "metadata": {},
   "outputs": [],
   "source": [
    "\n",
    "def chiff(l, p, m):\n",
    "    y = ZZ.random_element(1,l-2)\n",
    "    u = Mod(2,l)^y\n",
    "    v = m*p^y\n",
    "    return [u,v]\n",
    "\n",
    "def dechiff(l, x, c):\n",
    "    [u,v] = c\n",
    "    return v*Mod(u,l)^(-x) # pour ne pas avoir d'overflow; depassement de la pile\n"
   ]
  },
  {
   "cell_type": "markdown",
   "metadata": {},
   "source": [
    "# Decodage du message"
   ]
  },
  {
   "cell_type": "code",
   "execution_count": 46,
   "metadata": {},
   "outputs": [
    {
     "name": "stdout",
     "output_type": "stream",
     "text": [
      "Le message décodé est :  1272424574634244136504\n"
     ]
    }
   ],
   "source": [
    "[u, v] = [621099371794596487924,1257360810924114714180] # message crypté\n",
    "c = [u,v]\n",
    "message_decode =  dechiff(l, x, c)\n",
    "print(\"Le message décodé est : \",message_decode)"
   ]
  },
  {
   "cell_type": "markdown",
   "metadata": {},
   "source": [
    "# Attaques OW-CCA2"
   ]
  },
  {
   "cell_type": "markdown",
   "metadata": {},
   "source": [
    "Cette attaque est basé sur le probleme de la maléabilité. <br>\n",
    "On va construire un chiffré à partir du chifré donné. <br>\n",
    "En effet, étant donné un chiffré C=(c1,c2) pour le message m, on peut construire le chiffré C'=(c1,2*c2), qui sera valide pour le message 2*m."
   ]
  },
  {
   "cell_type": "code",
   "execution_count": 3,
   "metadata": {},
   "outputs": [
    {
     "name": "stdout",
     "output_type": "stream",
     "text": [
      "[968949456665986235871, 425946054219604127768]\n"
     ]
    }
   ],
   "source": [
    "[u2 , v2]= [968949456665986235871, 212973027109802063884]\n",
    "# on construit le nouveau chiffré\n",
    "[u3,v3] = [968949456665986235871, 2*212973027109802063884] # utilisation de la maéabilité.\n",
    "message_proff = 928576471510029944259 # qui est impair\n",
    "\n",
    "print([u3,v3])"
   ]
  },
  {
   "cell_type": "markdown",
   "metadata": {},
   "source": [
    "Comme le dechifré de [u3,v3] est impair, le message clair correspondant au chifré [u2 , v2] et donc l'attaque n'a pas abouti."
   ]
  },
  {
   "cell_type": "markdown",
   "metadata": {},
   "source": [
    "# Exercice 4"
   ]
  },
  {
   "cell_type": "markdown",
   "metadata": {},
   "source": [
    "# Fonction de hachage"
   ]
  },
  {
   "cell_type": "code",
   "execution_count": 1,
   "metadata": {},
   "outputs": [],
   "source": [
    "z = 75374193616302\n",
    "r = 65497\n",
    "IV = 2"
   ]
  },
  {
   "cell_type": "markdown",
   "metadata": {},
   "source": [
    "# Decomposition de z enpolynôme de paramètre r et de degré au max r-1 "
   ]
  },
  {
   "cell_type": "markdown",
   "metadata": {},
   "source": [
    "Les coefficient du polynome z = s_0 + ... + s_n*r^n s'obtient en faisant: <br>\n",
    "s_0 = le reste de la division de z par r  <br>\n",
    "z devient le quotient de la division de z par r  <br>\n",
    "et on repète ceci pour trouver le reste des coefficient tant que z reste plus grand que r \n"
   ]
  },
  {
   "cell_type": "code",
   "execution_count": 2,
   "metadata": {},
   "outputs": [],
   "source": [
    "def polynome(z,r):\n",
    "    a=z\n",
    "    s = []\n",
    "    t=0\n",
    "    while (a >= r ):\n",
    "        s.append(a%(r))\n",
    "        a = Integer((a - s[t])/(r))\n",
    "        t=t+1\n",
    "    s.append(a)\n",
    "    return s"
   ]
  },
  {
   "cell_type": "raw",
   "metadata": {},
   "source": [
    "La fonction polynome nous fourni les entiers s_i"
   ]
  },
  {
   "cell_type": "code",
   "execution_count": 3,
   "metadata": {},
   "outputs": [
    {
     "name": "stdout",
     "output_type": "stream",
     "text": [
      "[9570, 21466, 17570]\n"
     ]
    }
   ],
   "source": [
    "z_polynome = polynome(z,r)\n",
    "print(z_polynome)"
   ]
  },
  {
   "cell_type": "markdown",
   "metadata": {},
   "source": [
    "# Définition de la fonction kappa"
   ]
  },
  {
   "cell_type": "code",
   "execution_count": 5,
   "metadata": {},
   "outputs": [],
   "source": [
    "def k_Function(x,y):\n",
    "    if(x+y != 0):\n",
    "        return (x+y)^2\n",
    "    else:\n",
    "        return x^2"
   ]
  },
  {
   "cell_type": "markdown",
   "metadata": {},
   "source": [
    "# Définition de la fonction de hachage "
   ]
  },
  {
   "cell_type": "code",
   "execution_count": 37,
   "metadata": {},
   "outputs": [],
   "source": [
    "def f(message,IV):\n",
    "    r = 65497\n",
    "    s = polynome(message,r)\n",
    "    hache = k_Function(IV,s[0])\n",
    "    for l in s[1:] :\n",
    "        hache = k_Function(hache,l)\n",
    "        hache = Mod(hache,r) # pour être dans l'ensemble d'arrivé\n",
    "    return hache\n",
    "  "
   ]
  },
  {
   "cell_type": "markdown",
   "metadata": {},
   "source": [
    "# Calcul de l'empreunt de z"
   ]
  },
  {
   "cell_type": "code",
   "execution_count": 36,
   "metadata": {},
   "outputs": [
    {
     "name": "stdout",
     "output_type": "stream",
     "text": [
      "L'emprente de message est : 63399\n"
     ]
    }
   ],
   "source": [
    "message = z\n",
    "z_emprunte = f(message,IV)\n",
    "print(\"L'emprente de message est :\",z_emprunte)"
   ]
  },
  {
   "cell_type": "markdown",
   "metadata": {},
   "source": [
    "# Recherche de collision pour la fonction de hachage f"
   ]
  },
  {
   "cell_type": "markdown",
   "metadata": {},
   "source": [
    "La fonction suivantcherche une collision pour la fonction de hachage d'un message donné."
   ]
  },
  {
   "cell_type": "code",
   "execution_count": 17,
   "metadata": {},
   "outputs": [],
   "source": [
    "def collision_de_message(m):\n",
    "    m_tableau = []\n",
    "    h = f(m,2)\n",
    "    while len(m_tableau) < m:\n",
    "        while True:\n",
    "            m1 = ZZ.random_element(m)\n",
    "            try:\n",
    "                m_tableau.index(m1)\n",
    "            except:\n",
    "                m_tableau.append(m1)\n",
    "                break;\n",
    "        h1 = f(m1,2)\n",
    "        if(h1 == h):\n",
    "            return m1\n",
    "    return ''"
   ]
  },
  {
   "cell_type": "markdown",
   "metadata": {},
   "source": [
    "Si on donne un message et on veut trouver si y a une collision avec ce dernier, on utilise la fonction collision(m)"
   ]
  },
  {
   "cell_type": "code",
   "execution_count": 20,
   "metadata": {},
   "outputs": [
    {
     "name": "stdout",
     "output_type": "stream",
     "text": [
      "Il existe une collision de 75374193616302 avec 807513846484, et leur haché est: 61232\n"
     ]
    }
   ],
   "source": [
    "m = collision_de_message(3102871840112)\n",
    "if(m != ''):\n",
    "    print(\"Il existe une collision de %s avec %s, et leur haché est: %s\" % (75374193616302,m,f(m,2)))\n",
    "else:\n",
    "    print(\"il n'existe pas de collision\")"
   ]
  },
  {
   "cell_type": "markdown",
   "metadata": {},
   "source": [
    "La fonction ci-dessous génère un entier de taille fixe"
   ]
  },
  {
   "cell_type": "code",
   "execution_count": 27,
   "metadata": {},
   "outputs": [],
   "source": [
    "def generate_rand_fixed_length(n):\n",
    "    return ZZ.random_element(10**(n-1),10**n - 1)"
   ]
  },
  {
   "cell_type": "markdown",
   "metadata": {},
   "source": [
    "La fonction suivant, cherche la collision de la fonction f"
   ]
  },
  {
   "cell_type": "code",
   "execution_count": 34,
   "metadata": {},
   "outputs": [],
   "source": [
    "def recherche_collision(n):\n",
    "    mArray = []\n",
    "    hArray = []\n",
    "    for i in range(n+1):\n",
    "        while True:\n",
    "            m = generate_rand_fixed_length(15)\n",
    "            try:\n",
    "                mArray.index(m)\n",
    "            except:\n",
    "                mArray.append(m)\n",
    "                h = f(m,2)\n",
    "                try:\n",
    "                    i = hArray.index(h)\n",
    "                    return (m,mArray[i])\n",
    "                except:\n",
    "                    hArray.append(h)\n",
    "                break;"
   ]
  },
  {
   "cell_type": "markdown",
   "metadata": {},
   "source": [
    "La fonction recherche_collision, trouve automatiquement des collisions sans que l'on lui donne un message. <br>\n",
    "La particularité de cette fonction est que une fois la collision trouvée, le programme s'arrête.\n"
   ]
  },
  {
   "cell_type": "code",
   "execution_count": 35,
   "metadata": {},
   "outputs": [
    {
     "name": "stdout",
     "output_type": "stream",
     "text": [
      "On a trouvé une collision entre 794151415752943 et 751881169321491 et leur haché est 34330\n"
     ]
    }
   ],
   "source": [
    "## on teste sur n  elements, mais on s'arrete si on trouve une collision \n",
    "n = 2000\n",
    "result = recherche_collision(n)\n",
    "print(\"On a trouvé une collision entre %s et %s et leur haché est %s\" % (result[0],result[1],f(result[0],2)))"
   ]
  }
 ],
 "metadata": {
  "kernelspec": {
   "display_name": "SageMath 8.7",
   "language": "",
   "name": "sagemath"
  },
  "language_info": {
   "codemirror_mode": {
    "name": "ipython",
    "version": 3
   },
   "file_extension": ".py",
   "mimetype": "text/x-python",
   "name": "python",
   "nbconvert_exporter": "python",
   "pygments_lexer": "ipython3",
   "version": "3.6.6"
  }
 },
 "nbformat": 4,
 "nbformat_minor": 4
}
